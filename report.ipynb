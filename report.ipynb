{
 "cells": [
  {
   "cell_type": "markdown",
   "metadata": {},
   "source": [
    "# Analiza zmiany wartości mid price na podstawie Limit Order Book"
   ]
  },
  {
   "cell_type": "markdown",
   "metadata": {},
   "source": [
    "Będziemy LOBy analizować \n"
   ]
  },
  {
   "cell_type": "code",
   "execution_count": 1,
   "metadata": {},
   "outputs": [],
   "source": [
    "from imbalance import prep_data\n",
    "from parser import parse\n",
    "from utils import confusion_matrix\n",
    "from warnings import filterwarnings\n",
    "filterwarnings('ignore')\n",
    "\n",
    "\n",
    "file_locs = ['../data/OrderBookSnapshots.9061.csv', '../data/OrderBookSnapshots.9062.csv', '../data/OrderBookSnapshots.9063.csv',\n",
    "             '../data/OrderBookSnapshots.9064.csv', '../data/OrderBookSnapshots.9065.csv']"
   ]
  },
  {
   "cell_type": "markdown",
   "metadata": {},
   "source": [
    "## Imbalance"
   ]
  },
  {
   "cell_type": "markdown",
   "metadata": {},
   "source": [
    "No to z czym sie będziemy porównywać to imbalance z pracy (link)"
   ]
  },
  {
   "cell_type": "code",
   "execution_count": 2,
   "metadata": {},
   "outputs": [
    {
     "name": "stdout",
     "output_type": "stream",
     "text": [
      "0.4935897435897436\n",
      "[[  0   0]\n",
      " [553 539]]\n",
      "\n",
      "0.49542124542124544\n",
      "[[252 262]\n",
      " [289 289]]\n",
      "\n",
      "0.4986225895316804\n",
      "[[543 546]\n",
      " [  0   0]]\n",
      "\n",
      "0.5178735105407882\n",
      "[[277 254]\n",
      " [272 288]]\n",
      "\n",
      "0.5004582951420715\n",
      "[[  0   0]\n",
      " [545 546]]\n",
      "\n"
     ]
    }
   ],
   "source": [
    "from sklearn import linear_model\n",
    "\n",
    "\n",
    "for file_name in file_locs:\n",
    "    X_train, Y_train, X_test, Y_test = prep_data(parse(file_name))\n",
    "    classifier = linear_model.SGDClassifier(loss=\"log\", alpha=0.1, max_iter=3000, tol=0, shuffle=False)\n",
    "    classifier.fit(X_train, Y_train)\n",
    "    Y_check = classifier.predict(X_test)\n",
    "    print(classifier.score(X_test,Y_test))\n",
    "    print(confusion_matrix(Y_check, Y_test))\n",
    "    print()"
   ]
  },
  {
   "cell_type": "markdown",
   "metadata": {},
   "source": [
    "## Klasyfikator oparty na sieci neuronowej"
   ]
  },
  {
   "cell_type": "code",
   "execution_count": 3,
   "metadata": {},
   "outputs": [],
   "source": [
    "import torch\n",
    "from torch import nn\n",
    "import numpy as np"
   ]
  },
  {
   "cell_type": "markdown",
   "metadata": {},
   "source": [
    "No nie wiem czy coś tu pisać"
   ]
  },
  {
   "cell_type": "markdown",
   "metadata": {},
   "source": [
    "### Preprocessing"
   ]
  },
  {
   "cell_type": "markdown",
   "metadata": {},
   "source": [
    "Zamiast brać słupki z LOB dzielimy cały zakres na kubełki, których wielkość to ułamek wartości mid price. Następnie bierzemy tylko kilka z każdej strony mid price i normujemy tak, aby wartości sumowały się do jedynki.\n"
   ]
  },
  {
   "cell_type": "code",
   "execution_count": 18,
   "metadata": {},
   "outputs": [],
   "source": [
    "\n",
    "def fits(index, arr):\n",
    "    return index >= 0 and index < len(arr)\n",
    "\n",
    "\n",
    "def get_XY(data, n_buckets=5, bucket_size=0.05 , omit_no_change=True):\n",
    "    \n",
    "    keys = list(data.keys())\n",
    "    keys.sort()\n",
    "\n",
    "    growths = []\n",
    "    X = []\n",
    "\n",
    "    for i, curr in enumerate(keys[:-1]):\n",
    "        currKey = curr\n",
    "        nextKey = keys[i+1]\n",
    "\n",
    "        if not omit_no_change or data[nextKey][2] != data[currKey][2]:\n",
    "            rows = np.zeros(2*n_buckets)\n",
    "            mid_price = data[currKey][2]\n",
    "            #print(mid_price)\n",
    "            for bid_price, bid_size in reversed(data[currKey][0]):\n",
    "                bucket = int(( n_buckets*bucket_size -  (mid_price-bid_price)/mid_price)/bucket_size)\n",
    "                #print(bucket)\n",
    "                if fits(bucket, rows):\n",
    "                    rows[bucket] += bid_size\n",
    "\n",
    "            for ask_price, ask_size in data[currKey][1]:\n",
    "                bucket = int(((ask_price - mid_price)/mid_price )/bucket_size)\n",
    "                #print(bucket + n_buckets)\n",
    "                if fits(bucket + n_buckets, rows):\n",
    "                    rows[bucket + n_buckets] += ask_size\n",
    "\n",
    "            ###print(\"!!!\", currKey, nextKey)\n",
    "\n",
    "            # poprawne dane - min ask > max bid\n",
    "            if data[currKey][0][-1][0] <  data[currKey][1][0][0] and data[nextKey][0][-1][0] <  data[nextKey][1][0][0]:\n",
    "                growths.append(data[currKey][2] < data[nextKey][2])\n",
    "                rows /= rows.sum()\n",
    "                X.append(rows)\n",
    "                \n",
    "    return np.array(X, dtype=np.float32), np.array(growths, dtype=np.int)\n"
   ]
  },
  {
   "cell_type": "markdown",
   "metadata": {},
   "source": [
    "### Model"
   ]
  },
  {
   "cell_type": "markdown",
   "metadata": {},
   "source": [
    "Do trenowania używamy klasycznej sieci neuronowej z warstwami fc i dodatkowo dropoutem"
   ]
  },
  {
   "cell_type": "code",
   "execution_count": 29,
   "metadata": {},
   "outputs": [],
   "source": [
    "bucket_size = 0.04\n",
    "input_size = 2*3\n",
    "hidden_size = 1000\n",
    "\n",
    "loss = nn.NLLLoss()"
   ]
  },
  {
   "cell_type": "code",
   "execution_count": 30,
   "metadata": {},
   "outputs": [],
   "source": [
    "model = nn.Sequential(\n",
    "        nn.Linear(input_size, hidden_size),\n",
    "        nn.Tanh(),\n",
    "        nn.Dropout(p=0.6, inplace=False),\n",
    "        nn.Linear(hidden_size, hidden_size//4),\n",
    "        nn.ReLU(),\n",
    "        nn.Linear(hidden_size//4, 2),\n",
    "        nn.LogSoftmax()\n",
    "    )"
   ]
  },
  {
   "cell_type": "markdown",
   "metadata": {},
   "source": [
    "## Wyniki"
   ]
  },
  {
   "cell_type": "code",
   "execution_count": 44,
   "metadata": {},
   "outputs": [
    {
     "name": "stdout",
     "output_type": "stream",
     "text": [
      "Loss: 0.694196879863739\n",
      "Acc: 0.5\n",
      "Confusion matrix: \n",
      "[[  76   76]\n",
      " [1780 1780]]\n",
      "\n",
      "Loss: 0.695254921913147\n",
      "Acc: 0.4825910931174089\n",
      "Confusion matrix: \n",
      "[[1281 1376]\n",
      " [ 541  507]]\n",
      "\n",
      "Loss: 0.6938292384147644\n",
      "Acc: 0.5049254151421334\n",
      "Confusion matrix: \n",
      "[[1386 1386]\n",
      " [ 373  408]]\n",
      "\n",
      "Loss: 0.692992091178894\n",
      "Acc: 0.512707468879668\n",
      "Confusion matrix: \n",
      "[[1128 1126]\n",
      " [ 753  849]]\n",
      "\n",
      "Loss: 0.6936191320419312\n",
      "Acc: 0.5059021922428331\n",
      "Confusion matrix: \n",
      "[[935 928]\n",
      " [537 565]]\n",
      "\n"
     ]
    }
   ],
   "source": [
    "from utils import accuracy\n",
    "\n",
    "from preprocess import get_XY\n",
    "\n",
    "for data in file_locs:\n",
    "    X, Y = get_XY(parse(data), n_buckets=input_size//2, bucket_size=bucket_size)\n",
    "    model.load_state_dict(torch.load(\"models/model\"))\n",
    "    model.eval()\n",
    "    X = torch.from_numpy(X)\n",
    "    Y = torch.from_numpy(Y)\n",
    "    pred = model(X)\n",
    "    loss_val = loss(pred, Y)\n",
    "    print(\"Loss: {}\".format(loss_val.item()))\n",
    "    print(\"Acc: {}\".format(accuracy(pred.data.numpy(), Y.data.numpy())))\n",
    "    print(\"Confusion matrix: \")\n",
    "    print(confusion_matrix(np.argmax(pred.data.numpy(), axis=1), Y.data.numpy()))\n",
    "    print()\n",
    "    \n",
    "## python3 main.py --data ../data/OrderBookSnapshots.9062.csv --debug --epochs 250 --buckets 3 --bucket_size 0.04 --print_every 100 --hidden 1000"
   ]
  },
  {
   "cell_type": "markdown",
   "metadata": {},
   "source": [
    "Dziękujemy za uwagę"
   ]
  }
 ],
 "metadata": {
  "kernelspec": {
   "display_name": "Python 3",
   "language": "python",
   "name": "python3"
  },
  "language_info": {
   "codemirror_mode": {
    "name": "ipython",
    "version": 3
   },
   "file_extension": ".py",
   "mimetype": "text/x-python",
   "name": "python",
   "nbconvert_exporter": "python",
   "pygments_lexer": "ipython3",
   "version": "3.5.2"
  }
 },
 "nbformat": 4,
 "nbformat_minor": 2
}
